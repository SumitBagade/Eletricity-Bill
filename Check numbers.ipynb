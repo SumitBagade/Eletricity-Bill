{
 "cells": [
  {
   "cell_type": "code",
   "execution_count": 12,
   "id": "69564bbe",
   "metadata": {},
   "outputs": [
    {
     "name": "stdout",
     "output_type": "stream",
     "text": [
      "Enter the number 87\n",
      "Number is positive\n",
      "Number is odd \n",
      "Number is not divisible by 5 or 7 \n",
      "Number is not divisible by 5 and 7 \n"
     ]
    }
   ],
   "source": [
    "a = int (input('Enter the number '))\n",
    "if a < 0:\n",
    "    print(\"Number is negative\")\n",
    "else: print(\"Number is positive\")\n",
    "if (a%2==1):\n",
    "    print(\"Number is odd \")\n",
    "else: print(\"Number is even \")\n",
    "if ((a%5==0) * (a%7==0) ):\n",
    "    print(\"Number is divisible by 5 or 7 \")\n",
    "else: print(\"Number is not divisible by 5 or 7 \")\n",
    "if ((a%5==0) & (a%7==0) ):\n",
    "    print(\"Number is divisible by 5 and 7 \")\n",
    "else: print(\"Number is not divisible by 5 and 7 \")\n"
   ]
  },
  {
   "cell_type": "code",
   "execution_count": null,
   "id": "40dc7bdb",
   "metadata": {},
   "outputs": [],
   "source": []
  }
 ],
 "metadata": {
  "kernelspec": {
   "display_name": "Python 3 (ipykernel)",
   "language": "python",
   "name": "python3"
  },
  "language_info": {
   "codemirror_mode": {
    "name": "ipython",
    "version": 3
   },
   "file_extension": ".py",
   "mimetype": "text/x-python",
   "name": "python",
   "nbconvert_exporter": "python",
   "pygments_lexer": "ipython3",
   "version": "3.11.5"
  }
 },
 "nbformat": 4,
 "nbformat_minor": 5
}
