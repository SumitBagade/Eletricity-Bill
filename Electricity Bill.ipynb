{
 "cells": [
  {
   "cell_type": "markdown",
   "id": "ebd58154",
   "metadata": {},
   "source": [
    "# Program to calculate electricity Bill"
   ]
  },
  {
   "cell_type": "code",
   "execution_count": null,
   "id": "dff613fe",
   "metadata": {},
   "outputs": [],
   "source": [
    "def Total_Bill(n):\n",
    "    if n<=100:\n",
    "        x=n*3.36\n",
    "        print(\"Your electricity bill is  \", x)\n",
    "    elif n>100 and n<=300:\n",
    "        y=(336+(n-100)*7.34)\n",
    "        print(\"Your electricity bill is  \", y)\n",
    "    elif n>300 and n<=500:\n",
    "        z=(536+(n-300)*10.37)\n",
    "        print(\"Your electricity bill is  \", z)\n",
    "    elif n>=500:\n",
    "        u=(2610+(n-500)*11.86)\n",
    "        print(\"Your electricity bill is  \", u)\n",
    "for i in range(3):\n",
    "    a = input (\"Enter the name of a customer\")\n",
    "    n = int(input(\"Enter the number of units used\"))\n",
    "    Total_Bill(n)"
   ]
  },
  {
   "cell_type": "code",
   "execution_count": null,
   "id": "04d2e108",
   "metadata": {},
   "outputs": [],
   "source": []
  }
 ],
 "metadata": {
  "kernelspec": {
   "display_name": "Python 3 (ipykernel)",
   "language": "python",
   "name": "python3"
  },
  "language_info": {
   "codemirror_mode": {
    "name": "ipython",
    "version": 3
   },
   "file_extension": ".py",
   "mimetype": "text/x-python",
   "name": "python",
   "nbconvert_exporter": "python",
   "pygments_lexer": "ipython3",
   "version": "3.11.5"
  }
 },
 "nbformat": 4,
 "nbformat_minor": 5
}
